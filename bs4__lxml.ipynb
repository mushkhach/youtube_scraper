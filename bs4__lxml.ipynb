{
 "cells": [
  {
   "cell_type": "code",
   "execution_count": 29,
   "metadata": {},
   "outputs": [
    {
     "name": "stdout",
     "output_type": "stream",
     "text": [
      "[]\n"
     ]
    }
   ],
   "source": [
    "import json\n",
    "import re\n",
    "from bs4 import *\n",
    "import requests\n",
    "url=\"https://www.youtube.com/feed/trending\"\n",
    "response = requests.get(url)\n",
    "my_page= response.text\n",
    "soup=BeautifulSoup(my_page)\n",
    "a_tags=soup.findAll('a', attrs={'class':\"yt-uix-tile-link yt-ui-ellipsis yt-ui-ellipsis-2 yt-uix-sessionlink spf-link \"})\n",
    "duration = soup.findAll('span', attrs={'class': 'video-time'})\n",
    "user = soup.findAll('a', attrs={'class': \"yt-uix-sessionlink spf-link \"})\n",
    "data = soup.findAll(\"ul\", attrs={ 'class':\"yt-lockup-meta-info\", } ) \n",
    "x=str(data)\n",
    "views=re.findall('>([0-9]+\\S*)\\s+views',x)\n",
    "data1=[]\n",
    "for i,j,z,x in zip(a_tags,duration,user,views):\n",
    "    data1.append({'Title' :i.get(\"title\"),\"URL\" : \"https://www.youtube.com\"+i.get('href'),'Duration':j.text,\"Username\":z.text,\"Views\": x})\n",
    "print(data1)\n",
    "\n",
    "with open('trending.json', 'w') as output:\n",
    "    json.dump(data1, output, sort_keys = True, indent = 4)\n",
    "\n",
    "\n",
    "\n",
    "\n",
    "import unicodecsv as csv\n",
    "\n",
    "with open('trending__.csv', 'w') as csv_file:\n",
    "    writer = csv.writer(csv_file)\n",
    "    writer.writerow([\"Title\", \"URL\", \"Username\", \"Duration\", \"Views\"])\n",
    "    for i in data1:\n",
    "        writer.writerow([i['Title'],i['URL'],i['Username'],i['Duration'],i['Views']])"
   ]
  },
  {
   "cell_type": "code",
   "execution_count": 33,
   "metadata": {
    "scrolled": true
   },
   "outputs": [
    {
     "name": "stdout",
     "output_type": "stream",
     "text": [
      "[{'URL': 'https://www.youtube.com/watch?v=vbBzXPQ4CFk', 'Duration': '2:51', 'Username': 'Comedy Central', 'Views': '1,344,770', 'Title': 'French Restaurant - Key & Peele'}, {'URL': 'https://www.youtube.com/watch?v=9z69lUQfmS8', 'Duration': '3:38', 'Username': 'CaseyNeistat', 'Views': '1,170,492', 'Title': 'A 3 MiNUTE EXPERiMENT; IT WORKED!!!'}, {'URL': 'https://www.youtube.com/watch?v=XStvwK6yKvs', 'Duration': '5:44', 'Username': \"America's Got Talent\", 'Views': '686,801', 'Title': u'Angel City Chorale: Amazing Choir Earns Golden Buzzer From Olivia Munn - America\\xe2\\x80\\x99s Got Talent 2018'}, {'URL': 'https://www.youtube.com/watch?v=FyiMhcKxmVs', 'Duration': '10:03', 'Username': 'CrazyRussianHacker', 'Views': '447,371', 'Title': '5 Bread Gadgets put to the Test'}, {'URL': 'https://www.youtube.com/watch?v=R6sWHnYUQGQ', 'Duration': '4:50', 'Username': 'Haminations', 'Views': '56,070', 'Title': 'Pompeo testifies before Senate Foreign Relations Committee'}, {'URL': 'https://www.youtube.com/watch?v=8VkZ8YLO5CE', 'Duration': '6:57', 'Username': 'Haminations', 'Views': '253,290', 'Title': 'Honest Trailers - Ready Player One'}, {'URL': 'https://www.youtube.com/watch?v=D-1ZJIQqgUg', 'Duration': '5:24', 'Username': 'Haminations', 'Views': '222,179', 'Title': 'How to Make the Perfect Burger According to Science | The Burger Show'}, {'URL': 'https://www.youtube.com/watch?v=DWk1ZUb1avU', 'Duration': '1:33', 'Username': 'Haminations', 'Views': '84,643', 'Title': \"World's First Programmable Magic Wand!\"}, {'URL': 'https://www.youtube.com/watch?v=6iClgRjmTvc', 'Duration': '5:42', 'Username': 'Haminations', 'Views': '94,048', 'Title': 'Mad Lib Theater with Tom Cruise (Mission: Impossible Edition)'}, {'URL': 'https://www.youtube.com/watch?v=iQ5F_5NgE-A', 'Duration': '5:17', 'Username': 'Washington Post', 'Views': '1,087,510', 'Title': \"BFFs BUY EACH OTHER'S OUTFITS // Grace Helbig\"}, {'URL': 'https://www.youtube.com/watch?v=E_HMfe1Rfi4', 'Duration': '13:37', 'Username': 'Screen Junkies', 'Views': '434,506', 'Title': 'Stephanie McMahon announces WWE Evolution: Raw, July 23, 2018'}, {'URL': 'https://www.youtube.com/watch?v=Ig2dQ_ybCeI', 'Duration': '10:30', 'Username': 'First We Feast', 'Views': '574,171', 'Title': 'Fall Out Boy - Bishops Knife Trick'}, {'URL': 'https://www.youtube.com/watch?v=MBPdKxlazD0', 'Duration': '7:02', 'Username': 'Linus Tech Tips', 'Views': '886,056', 'Title': 'Blind Chicken Wing Taste Test'}, {'URL': 'https://www.youtube.com/watch?v=w7pYhpJaJW8', 'Duration': '11:33', 'Username': 'The Tonight Show Starring Jimmy Fallon', 'Views': '168,762', 'Title': 'Alita: Battle Angel | Official Trailer [HD] | 20th Century FOX'}, {'URL': 'https://www.youtube.com/watch?v=8ppedsggfa4', 'Duration': '4:28', 'Username': 'Grace Helbig', 'Views': '1,851,309', 'Title': \"I Bet You Can't Guess What Colors I'm Using! | Mystery Makeup Monday\"}, {'URL': 'https://www.youtube.com/watch?v=qI-t1I_ppL8', 'Duration': '5:35', 'Username': 'WWE', 'Views': '530,015', 'Title': \"Mac Miller - What's The Use? (Audio)\"}, {'URL': 'https://www.youtube.com/watch?v=0XdS37Re1XQ', 'Duration': '14:29', 'Username': 'Fall Out Boy', 'Views': '1,982,875', 'Title': 'EVERY CAMPING TRIP EVER'}, {'URL': 'https://www.youtube.com/watch?v=08NLbz4fyXA', 'Duration': '2:37', 'Username': 'Good Mythical Morning', 'Views': '7,688,342', 'Title': 'MY SUBSCRIBERS PICK MY MAKEUP LOOK!'}, {'URL': 'https://www.youtube.com/watch?v=f3uVr2bZKUU', 'Duration': '12:35', 'Username': '20th Century Fox', 'Views': '409,822', 'Title': \"Sara Haines Announces She's Leaving 'The View' To Host 'GMA Day'\"}, {'URL': 'https://www.youtube.com/watch?v=mXuUAtAtMtM', 'Duration': '4:49', 'Username': 'Alissa Ashley', 'Views': '655,992', 'Title': 'Arctic Monkeys - Tranquility Base Hotel & Casino (Official Video)'}, {'URL': 'https://www.youtube.com/watch?v=PV9jdolesMI', 'Duration': '6:09', 'Username': 'TreeJTV', 'Views': '1,246,468', 'Title': 'Game Theory: We Were Right ALL ALONG! (FNAF Ultimate Custom Night)'}, {'URL': 'https://www.youtube.com/watch?v=WDkg3h8PCVU', 'Duration': '22:18', 'Username': 'Smosh', 'Views': '1,894,585', 'Title': 'Aquaman - Official Trailer 1'}, {'URL': 'https://www.youtube.com/watch?v=5MtfYjLjyGg', 'Duration': '4:55', 'Username': 'NikkieTutorials', 'Views': '482,746', 'Title': 'MY AMAZON FAVORITES! Fitness, Lifestyle & Random MUST HAVES! | Casey Holmes'}, {'URL': 'https://www.youtube.com/watch?v=QUYLG94VWb4', 'Duration': '3:51', 'Username': 'The View', 'Views': '999,963', 'Title': 'SIDEMEN BOWLING (GONE WRONG)'}, {'URL': 'https://www.youtube.com/watch?v=-oD7B7oiBtw', 'Duration': '18:32', 'Username': 'Official Arctic Monkeys', 'Views': '4,630,615', 'Title': 'SHAZAM! Trailer (2019)'}, {'URL': 'https://www.youtube.com/watch?v=rV0vcfT8WQs', 'Duration': '2:26', 'Username': 'The Game Theorists', 'Views': '27,405,524', 'Title': 'PEOPLE WHO THOUGHT THEY WERE SMART'}, {'URL': 'https://www.youtube.com/watch?v=PQIq4BUw_Hs', 'Duration': '19:36', 'Username': 'Warner Bros. Pictures', 'Views': '244,413', 'Title': u'It\\xe2\\x80\\x99s BIG...it\\xe2\\x80\\x99s BLUE...it\\xe2\\x80\\x99s NEW!'}, {'URL': 'https://www.youtube.com/watch?v=wQ1CWUWivjQ', 'Duration': '12:36', 'Username': 'Casey Holmes', 'Views': '2,950,033', 'Title': 'IS DRIFT EVIL IN FORTNITE?! * SEASON 5 *Fortnite Short Film'}, {'URL': 'https://www.youtube.com/watch?v=Yn60wQvKhaY', 'Duration': '3:14', 'Username': 'Sidemen', 'Views': '12,243,278', 'Title': 'DOG VS GOAT GYMNASTICS CHALLENGE! (super funny)'}, {'URL': 'https://www.youtube.com/watch?v=Gp_RnJcb8Ig', 'Duration': '12:45', 'Username': 'FilmSelect Trailer', 'Views': '1,455,547', 'Title': 'Disenchantment | Official Trailer [HD] | Netflix'}, {'URL': 'https://www.youtube.com/watch?v=95ghQs5AmNk', 'Duration': '7:02', 'Username': 'SSSniperWolf', 'Views': '718,535', 'Title': 'Glass - Official Trailer [HD]'}, {'URL': 'https://www.youtube.com/watch?v=bATPXjOKebI', 'Duration': '18:44', 'Username': 'Brave Wilderness', 'Views': '1,072,820', 'Title': 'Dwight and Angela  - The Office US'}, {'URL': 'https://www.youtube.com/watch?v=R30dTNfBi2I', 'Duration': '10:02', 'Username': 'Little Lizard - Fortnite', 'Views': '1,907,228', 'Title': 'Unboxing A Fortnite Package from Epic Games!'}, {'URL': 'https://www.youtube.com/watch?v=nrAla4j8xMc', 'Duration': '1:54', 'Username': 'Dobre Brothers', 'Views': '1,836,588', 'Title': 'I Was Harassed By My Students For Being Gay'}, {'URL': 'https://www.youtube.com/watch?v=FrGRFdDzkFM', 'Duration': '2:53', 'Username': 'Netflix', 'Views': '8,059,754', 'Title': '3 Disturbing True Mall Horror Stories'}, {'URL': 'https://www.youtube.com/watch?v=PEMk1WWO3gg', 'Duration': '10:02', 'Username': 'Universal Pictures', 'Views': '360,432', 'Title': \"Judge Jeanine on her explosive exchange on 'The View'\"}, {'URL': 'https://www.youtube.com/watch?v=CGNi4Ca7XVU', 'Duration': '19:24', 'Username': 'The Office US', 'Views': '4,083,849', 'Title': 'Cardboard Guitar!? (Dear Ryan)'}, {'URL': 'https://www.youtube.com/watch?v=wd9Ja4evrHc', 'Duration': '5:17', 'Username': 'Lachlan', 'Views': '547,537', 'Title': 'Mystery Wheel of Pizza (ft. Alex Wassabi)'}, {'URL': 'https://www.youtube.com/watch?v=YHEU6WBpHMc', 'Duration': '12:32', 'Username': 'BuzzFeedVideo', 'Views': '971,804', 'Title': 'YOUNG JUSTICE: OUTSIDERS - Official Comic-Con Trailer - DC Universe'}, {'URL': 'https://www.youtube.com/watch?v=h4j_pxyQIak', 'Duration': '6:21', 'Username': 'Mr. Nightmare', 'Views': '1,076,871', 'Title': 'GIANT DART Vs. GIANT ICE BLOCK from 45m!'}, {'URL': 'https://www.youtube.com/watch?v=oWm1hWXlgQs', 'Duration': '10:06', 'Username': 'Fox News', 'Views': '2,750,640', 'Title': 'What If All Advertisement Disappears?'}, {'URL': 'https://www.youtube.com/watch?v=sel-yV46B0A', 'Duration': '7:57', 'Username': 'nigahiga', 'Views': '1,235,395', 'Title': 'ELDERS REACT TO ARIANA GRANDE - GOD IS A WOMAN'}, {'URL': 'https://www.youtube.com/watch?v=E7eBb3qGuvY', 'Duration': '5:05', 'Username': 'Guava Juice', 'Views': '1,735,879', 'Title': 'MY ZODIAC COLLECTION WITH COLOURPOP!!!!!!!! #TheZodiac'}, {'URL': 'https://www.youtube.com/watch?v=k5dxFyN73Pk', 'Duration': '10:37', 'Username': 'DC', 'Views': '2,066,754', 'Title': 'Bold and Natural Makeup Tutorial'}, {'URL': 'https://www.youtube.com/watch?v=u1fa0c0ImGQ', 'Duration': '1:18', 'Username': 'How Ridiculous', 'Views': '1,879,030', 'Title': 'RENOVATED APARTMENT TOUR (BEFORE AND AFTER)'}, {'URL': 'https://www.youtube.com/watch?v=UhurAzTl5gs', 'Duration': '10:10', 'Username': 'Meet Arnold', 'Views': '1,182,356', 'Title': 'Anitta - Medicina (Official Music Video)'}, {'URL': 'https://www.youtube.com/watch?v=V9p1k5wAVvU', 'Duration': '35:44', 'Username': 'FBE', 'Views': '839,883', 'Title': \"Denzel Washington's Dinner Table Has Seen Some Legends\"}, {'URL': 'https://www.youtube.com/watch?v=6VLqdY6rvZk', 'Duration': '14:20', 'Username': 'KathleenLights', 'Views': '293,037', 'Title': 'Fortnite Summer Skirmish Series | Week 2 (Day 1)'}, {'URL': 'https://www.youtube.com/watch?v=z_yIn8V3UcU', 'Duration': '7:54', 'Username': 'Christen Dominique', 'Views': '683,562', 'Title': 'What a conductor actually does on stage'}, {'URL': 'https://www.youtube.com/watch?v=RI7WyhWZkzk', 'Duration': '2:52', 'Username': 'Jess Conte', 'Views': '22,152,851', 'Title': 'Star Wars: The Clone Wars Official Trailer'}, {'URL': 'https://www.youtube.com/watch?v=COD9hcTpGWQ', 'Duration': '8:49', 'Username': 'Anitta', 'Views': '846,785', 'Title': 'Trevor Responds to Criticism from the French Ambassador - Between The Scenes | The Daily Show'}, {'URL': 'https://www.youtube.com/watch?v=CboJMlgfyMA', 'Duration': '5:41:00', 'Username': 'The Late Show with Stephen Colbert', 'Views': '955,454', 'Title': 'NEVER STEAL DRIFTS GOLDEN SCAR!! * SEASON 5 *Fortnite Short Film'}, {'URL': 'https://www.youtube.com/watch?v=q3iXrayrsHk', 'Duration': '4:42', 'Username': 'Fortnite', 'Views': '802,877', 'Title': 'Kylie Jenner Asks Travis Scott 23 Questions | GQ'}, {'URL': 'https://www.youtube.com/watch?v=CAb_bCtKuXg', 'Duration': '2:42', 'Username': 'Vox', 'Views': '5,401,174', 'Title': 'Life is Fun - Ft. Boyinaband (Official Music Video)'}, {'URL': 'https://www.youtube.com/watch?v=bhxhNIQBKJI', 'Duration': '8:26', 'Username': 'Star Wars', 'Views': '3,294,680', 'Title': 'Troye Sivan - Dance To This ft. Ariana Grande'}, {'URL': 'https://www.youtube.com/watch?v=SDaOmwaYDHw', 'Duration': '14:50', 'Username': 'The Daily Show with Trevor Noah', 'Views': '1,598,727', 'Title': 'Clash Royale: Introducing Royal Recruits! (New Card!)'}, {'URL': 'https://www.youtube.com/watch?v=FHgm89hKpXU', 'Duration': '12:07', 'Username': 'Little Lizard - Fortnite', 'Views': '21,754,232', 'Title': 'Dragon Ball Super: Broly Movie Trailer (English Dub Reveal) Exclusive - Comic Con 2018'}, {'URL': 'https://www.youtube.com/watch?v=LdH7aFjDzjI', 'Duration': '4:01', 'Username': 'GQ', 'Views': '10,607,310', 'Title': \"Bebe Rexha - I'm A Mess (Official Music Video)\"}, {'URL': 'https://www.youtube.com/watch?v=ew1JYegKF7s', 'Duration': '4:09', 'Username': 'TheOdd1sOut', 'Views': '14,400,392', 'Title': 'I Let My Dogs Walk Me For A Day'}, {'URL': 'https://www.youtube.com/watch?v=FpZBSrosoeU', 'Duration': '1:07', 'Username': 'Troye Sivan', 'Views': '7,598,932', 'Title': 'Lemonade Lad'}, {'URL': 'https://www.youtube.com/watch?v=Dh-ULbQmmF8', 'Duration': '1:31', 'Username': 'Clash Royale', 'Views': '7,064,874', 'Title': 'Ciara - Level Up'}, {'URL': 'https://www.youtube.com/watch?v=j8BfPkcnE2A', 'Duration': '3:23', 'Username': 'IGN', 'Views': '11,868,919', 'Title': 'Your Wonderful, Beautiful YIAY OUTROS (YIAY #430)'}, {'URL': 'https://www.youtube.com/watch?v=2zMTRWZMJ-w', 'Duration': '18:46', 'Username': 'Bebe Rexha', 'Views': '2,773,667', 'Title': \"BEAUTY PRODUCTS I'VE BEEN LOVING!\"}, {'URL': 'https://www.youtube.com/watch?v=FEc-OQ_oqDk', 'Duration': '5:37', 'Username': 'JennaMarbles', 'Views': '1,069,627', 'Title': 'Doctor Who: Series 11 Trailer'}, {'URL': 'https://www.youtube.com/watch?v=5E40mf0MNb0', 'Duration': '3:32', 'Username': 'shgurr', 'Views': '7,316,703', 'Title': 'Dunkin Donuts 10,000(+) Calorie Challenge'}, {'URL': 'https://www.youtube.com/watch?v=-INz4XVeyJ4', 'Duration': '10:59', 'Username': 'Ciara', 'Views': '1,968,373', 'Title': 'Back from brain surgery'}, {'URL': 'https://www.youtube.com/watch?v=CFND44Dupzw', 'Duration': '26:42', 'Username': 'jacksfilms', 'Views': '1,201,727', 'Title': 'Everything Wrong With Unfriended In 14 Minutes Or Less'}, {'URL': 'https://www.youtube.com/watch?v=tgBHu2D66Rg', 'Duration': '0:51', 'Username': 'Jaclyn Hill', 'Views': '1,113,260', 'Title': \"5 things you need to know before tonight's Raw: July 23, 2018\"}, {'URL': 'https://www.youtube.com/watch?v=eSKFXcMdFXI', 'Duration': '10:20', 'Username': 'Doctor Who', 'Views': '2,109,683', 'Title': 'Gator Ate My Camera!'}, {'URL': 'https://www.youtube.com/watch?v=azAEHCQgcUI', 'Duration': '9:25', 'Username': 'Matt Stonie', 'Views': '2,098,101', 'Title': 'MUSE - Something Human [Official Music Video]'}, {'URL': 'https://www.youtube.com/watch?v=FNa1In1D1xQ', 'Duration': '14:07', 'Username': 'Simone Giertz', 'Views': '2,663,044', 'Title': \"Ed Sheeran - 'Songwriter' [Official Trailer]\"}, {'URL': 'https://www.youtube.com/watch?v=Em0vnFIWIqo', 'Duration': '1:31', 'Username': 'CinemaSins', 'Views': '331,296', 'Title': 'OPENING UP ABOUT MY DEAF BROTHER'}, {'URL': 'https://www.youtube.com/watch?v=elda0uuw1ko', 'Duration': '12:50', 'Username': 'WWE', 'Views': '959,219', 'Title': 'COLLEGE KIDS REACT TO TOP 10 MOST VIEWED YOUTUBE VIDEOS OF ALL TIME (First 24 Hours)'}]\n"
     ]
    }
   ],
   "source": [
    "import json\n",
    "from urllib2 import *\n",
    "from lxml import *\n",
    "url = \"https://www.youtube.com/feed/trending\"\n",
    "response = urllib2.urlopen(url)\n",
    "page = response.read()\n",
    "tree = html.document_fromstring(page)\n",
    "title_link = tree.cssselect('[class=\"yt-uix-tile-link yt-ui-ellipsis yt-ui-ellipsis-2 yt-uix-sessionlink      spf-link \"] ')\n",
    "duration=tree.cssselect('[class=\"video-time\"]')\n",
    "user=tree.cssselect('[class=\"yt-uix-sessionlink       spf-link \"]')\n",
    "data = tree.cssselect('[class=\"yt-lockup-meta-info\"] ' )\n",
    "y=[]\n",
    "for i in data:\n",
    "    y.append(i.text_content())\n",
    "xxx=str(y)\n",
    "\n",
    "views=re.findall('\\S([0-9]+\\S*)\\s+views',xxx)\n",
    "data1=[]\n",
    "for i,z,a,b in zip(title_link,duration,user,views):\n",
    "    data1.append({'Title' :i.get(\"title\"),\"URL\" : \"https://www.youtube.com\"+str(i.get('href')),'Duration':z.text,\"Username\":a.text,\"Views\": b})\n",
    "print(data1)\n",
    "\n",
    "with open('trending_urllib.json', 'w') as output:\n",
    "    json.dump(data1, output, sort_keys = True, indent = 4)\n",
    "\n",
    "\n",
    "import unicodecsv as csv\n",
    "\n",
    "with open('trending_urllib_.csv', 'w') as csv_file:\n",
    "    writer = csv.writer(csv_file)\n",
    "    writer.writerow([\"Title\", \"URL\", \"Username\", \"Duration\", \"Views\"])\n",
    "    for i in data1:\n",
    "        writer.writerow([i['Title'],i['URL'],i['Username'],i['Duration'],i['Views']])\n"
   ]
  },
  {
   "cell_type": "code",
   "execution_count": null,
   "metadata": {
    "collapsed": true
   },
   "outputs": [],
   "source": []
  }
 ],
 "metadata": {
  "kernelspec": {
   "display_name": "Python 2",
   "language": "python",
   "name": "python2"
  },
  "language_info": {
   "codemirror_mode": {
    "name": "ipython",
    "version": 2
   },
   "file_extension": ".py",
   "mimetype": "text/x-python",
   "name": "python",
   "nbconvert_exporter": "python",
   "pygments_lexer": "ipython2",
   "version": "2.7.13"
  }
 },
 "nbformat": 4,
 "nbformat_minor": 2
}
